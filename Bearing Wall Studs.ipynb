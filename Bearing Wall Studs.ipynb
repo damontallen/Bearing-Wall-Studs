{
 "metadata": {
  "name": ""
 },
 "nbformat": 3,
 "nbformat_minor": 0,
 "worksheets": [
  {
   "cells": [
    {
     "cell_type": "heading",
     "level": 3,
     "metadata": {
      "slideshow": {
       "slide_type": "slide"
      }
     },
     "source": [
      "Bearing Wall Stud Design"
     ]
    },
    {
     "cell_type": "code",
     "collapsed": false,
     "input": [
      "%run glulam_helper.py #for Roof live load reduction and joist SW\n",
      "%run Beams/Timber_beam_v_02.py\n",
      "%run Beams/HomeWork4_lib.py #for finding stud sizes and grades that work."
     ],
     "language": "python",
     "metadata": {
      "slideshow": {
       "slide_type": "fragment"
      }
     },
     "outputs": [],
     "prompt_number": 1
    },
    {
     "cell_type": "heading",
     "level": 2,
     "metadata": {
      "slideshow": {
       "slide_type": "slide"
      }
     },
     "source": [
      "Loads"
     ]
    },
    {
     "cell_type": "heading",
     "level": 3,
     "metadata": {
      "slideshow": {
       "slide_type": "-"
      }
     },
     "source": [
      "Tributary Area:"
     ]
    },
    {
     "cell_type": "code",
     "collapsed": false,
     "input": [
      "spacing = 16/12 #joist and stud spacing\n",
      "Joist_span = 12. #ft the joist span\n",
      "Joist_A_trib = spacing * Joist_span/2\n",
      "print(\"Joist Tributary Area = %.2f ft^2\"%Joist_A_trib)\n",
      "Stud_span = 16. #ft \n",
      "Stud_A_trib = spacing * Stud_span\n",
      "print(\"Stud Tributary Area = %.2f ft^2\"%Stud_A_trib)"
     ],
     "language": "python",
     "metadata": {
      "slideshow": {
       "slide_type": "-"
      }
     },
     "outputs": [
      {
       "output_type": "stream",
       "stream": "stdout",
       "text": [
        "Joist Tributary Area = 8.00 ft^2\n",
        "Stud Tributary Area = 21.33 ft^2\n"
       ]
      }
     ],
     "prompt_number": 2
    },
    {
     "cell_type": "heading",
     "level": 3,
     "metadata": {
      "slideshow": {
       "slide_type": "slide"
      }
     },
     "source": [
      "Dead Loads:"
     ]
    },
    {
     "cell_type": "code",
     "collapsed": false,
     "input": [
      "ducts = 4 #psf\n",
      "ceiling = 2 #psf\n",
      "roof_n_gravel = 6 #psf\n",
      "plywood =  0.4 * (0.75 / 0.125) #psf\n",
      "insulation = 0.75 * (2 / 0.5) #psf\n",
      "print(\"Plywood weighs %.2f psf\"%plywood)\n",
      "print(\"Insulation weighs %.2f psf\"%insulation)\n",
      "\n",
      "density = wood_density(G=0.55, simple = True)\n",
      "\n",
      "joists = joist_load(d = 5.5, density=density)#override = 0)\n",
      "\n",
      "super_dead = roof_n_gravel + insulation + ceiling + ducts +\\\n",
      "             plywood\n",
      "print(\"Superimposed Dead Load = %.2f psf\"%super_dead)\n",
      "dead_press =  super_dead + joists\n",
      "print(\"Dead pressure = %.2f\"%dead_press)\n",
      "\n",
      "D = dead_press*Joist_A_trib\n",
      "print(\"D = %.0f lb\"%D)"
     ],
     "language": "python",
     "metadata": {
      "slideshow": {
       "slide_type": "-"
      }
     },
     "outputs": [
      {
       "output_type": "stream",
       "stream": "stdout",
       "text": [
        "Plywood weighs 2.40 psf\n",
        "Insulation weighs 3.00 psf\n",
        "Density = 34.32 pcf\n",
        "Joists weight 1.97 plf\n",
        "Joists weigh 1.47 psf\n",
        "Superimposed Dead Load = 17.40 psf\n",
        "Dead pressure = 18.87\n",
        "D = 151 lb\n"
       ]
      }
     ],
     "prompt_number": 3
    },
    {
     "cell_type": "heading",
     "level": 3,
     "metadata": {
      "slideshow": {
       "slide_type": "slide"
      }
     },
     "source": [
      "Roof Live Load $L_r$"
     ]
    },
    {
     "cell_type": "code",
     "collapsed": false,
     "input": [
      "slope = 0.25\n",
      "_Lr = Lr_reduce(spacing,Joist_span,slope)\n",
      "Lr = _Lr['value']\n",
      "L_r = Lr * Joist_A_trib\n",
      "print(\"L_r = %.2f lb\"%L_r)\n",
      "_Lr['work']"
     ],
     "language": "python",
     "metadata": {
      "slideshow": {
       "slide_type": "-"
      }
     },
     "outputs": [
      {
       "output_type": "stream",
       "stream": "stdout",
       "text": [
        "L_r = 160.00 lb\n"
       ]
      },
      {
       "latex": [
        "$$A_{trib} = \\text{width }\\times\\text{ length}= 16.00 ft^2 $$ \n",
        "${}$\n",
        " $$A_{trib}\\le 200 \\therefore R_1 = 1$$ \n",
        "${}$\n",
        " $$F \\equiv \\text{roof slope (or pitch)}$$ \n",
        "${}$\n",
        " $$F\\le 4 \\therefore R_2 = 1$$ \n",
        "${}$\n",
        " $$L_r = 20 psf\\text{ } R_1 R_2 \\le 1$$ \n",
        "${}$\n",
        " $$L_r = 20.00  psf$$ \n",
        "${}$\n",
        " "
       ],
       "metadata": {},
       "output_type": "pyout",
       "prompt_number": 4,
       "text": [
        "<IPython.core.display.Latex at 0x6d01b50>"
       ]
      }
     ],
     "prompt_number": 4
    },
    {
     "cell_type": "heading",
     "level": 3,
     "metadata": {
      "slideshow": {
       "slide_type": "slide"
      }
     },
     "source": [
      "Wind:"
     ]
    },
    {
     "cell_type": "code",
     "collapsed": false,
     "input": [
      "a = 6.4 #ft\n",
      "W_cor = 62.17 #psf\n",
      "W_edg = 51.29 #psf\n",
      "W_dwn = 16. #psf\n",
      "W_stud_edg = 39.04 #psf\n",
      "W_stud_int = 34.88 #psf\n",
      "\n",
      "joist = Timber_Beam()\n",
      "joist.span=Joist_span\n",
      "joist.loads=[{'x0':0,'x1':a,'w':W_cor*spacing},\n",
      "             {'x0':a,'x1':Joist_span,'w':W_edg*spacing}]\n",
      "print(\"Max V = %.2f lbs\"%joist.V)\n",
      "\n",
      "W_down = W_dwn*Joist_A_trib\n",
      "last = (Joist_span - a)\n",
      "W_up = (W_cor*a*(last+a/2) + W_edg*last**2/2)*spacing/Joist_span\n",
      "print(\"W_up = %.2f lbs\"%W_up)\n",
      "\n",
      "joist.u_c_f = 12**3\n",
      "joist.units=(\"ft\",\"in\",\"lb\")\n",
      "joist.plot_shear_moment_results()"
     ],
     "language": "python",
     "metadata": {
      "slideshow": {
       "slide_type": "-"
      }
     },
     "outputs": [
      {
       "output_type": "stream",
       "stream": "stdout",
       "text": [
        "Max V = 478.40 lbs\n",
        "W_up = 478.40 lbs\n"
       ]
      },
      {
       "metadata": {},
       "output_type": "display_data",
       "png": "[encoded data removed]",
       "text": [
        "<matplotlib.figure.Figure at 0x1317a90>"
       ]
      }
     ],
     "prompt_number": 5
    },
    {
     "cell_type": "heading",
     "level": 3,
     "metadata": {
      "slideshow": {
       "slide_type": "slide"
      }
     },
     "source": [
      "Axial Load Combinations"
     ]
    },
    {
     "cell_type": "code",
     "collapsed": false,
     "input": [
      "stud = Timber_Beam()\n",
      "stud.Axial_Loads(D=D,L_r=L_r,W_dwn=W_down,W_up=W_up)"
     ],
     "language": "python",
     "metadata": {
      "slideshow": {
       "slide_type": "-"
      }
     },
     "outputs": [],
     "prompt_number": 6
    },
    {
     "cell_type": "code",
     "collapsed": false,
     "input": [
      "stud.List_dwn_axial_combo"
     ],
     "language": "python",
     "metadata": {
      "slideshow": {
       "slide_type": "fragment"
      }
     },
     "outputs": [
      {
       "output_type": "stream",
       "stream": "stdout",
       "text": [
        "'P = 151.0 lbs,'  'P/C_D = 167.78,' ' for (D),'                                        'C_D = 0.90'\n",
        "'P = 151.0 lbs,'  'P/C_D = 151.00,' ' for (D + L),'                                    'C_D = 1.00'\n",
        "'P = 311.0 lbs,'  'P/C_D = 248.80,' ' for (D + L_r),'                                  'C_D = 1.25'\n",
        "'P = 151.0 lbs,'  'P/C_D = 131.30,' ' for (D + S),'                                    'C_D = 1.15'\n",
        "'P = 151.0 lbs,'  'P/C_D = 151.00,' ' for (D + R),'                                    'C_D = 1.00'\n",
        "'P = 271.0 lbs,'  'P/C_D = 216.80,' ' for (D + 0.75*L + 0.75*Lr),'                     'C_D = 1.25'\n",
        "'P = 151.0 lbs,'  'P/C_D = 131.30,' ' for (D + 0.75*L + 0.75*S),'                      'C_D = 1.15'\n",
        "'P = 151.0 lbs,'  'P/C_D = 120.80,' ' for (D + 0.75*L + 0.75*R),'                      'C_D = 1.25'\n",
        "'P = 227.8 lbs,'  'P/C_D = 142.37,' ' for (D + 0.6*W_dwn),'                            'C_D = 1.60'\n",
        "'P = 151.0 lbs,'   'P/C_D = 94.37,' ' for (D + 0.7*E),'                                'C_D = 1.60'\n",
        "'P = 328.6 lbs,'  'P/C_D = 205.37,' ' for (D + 0.75*L + 0.75*(0.6*W_dwn) + 0.75*Lr),'  'C_D = 1.60'\n",
        "'P = 208.6 lbs,'  'P/C_D = 130.37,' ' for (D + 0.75*L + 0.75*(0.6*W_dwn) + 0.75*S),'   'C_D = 1.60'\n",
        "'P = 208.6 lbs,'  'P/C_D = 130.37,' ' for (D + 0.75*L + 0.75*(0.6*W_dwn) + 0.75*R),'   'C_D = 1.60'\n",
        "'P = 151.0 lbs,'   'P/C_D = 94.37,' ' for (D + 0.75*L + 0.75*(0.7*E) + 0.75*S),'       'C_D = 1.60'\n"
       ]
      }
     ],
     "prompt_number": 7
    },
    {
     "cell_type": "heading",
     "level": 2,
     "metadata": {
      "slideshow": {
       "slide_type": "slide"
      }
     },
     "source": [
      "Sizing the Studs"
     ]
    },
    {
     "cell_type": "code",
     "collapsed": false,
     "input": [
      "stud.species=\"SP\" #to allow picking properties by size and grade\n",
      "stud_loads = {'edge':[{'x0':0,'x1':Stud_span,'w':0.6*W_stud_edg*spacing}],\n",
      "              'interior':[{'x0':0,'x1':Stud_span,'w':0.6*W_stud_int*spacing}],\n",
      "              'none':[{'x0':0,'x1':Stud_span,'w':0}]}\n",
      "loads=stud_loads['edge']\n",
      "print(loads)\n",
      "stud.span = Stud_span\n",
      "stud.loads = loads"
     ],
     "language": "python",
     "metadata": {
      "slideshow": {
       "slide_type": "-"
      }
     },
     "outputs": [
      {
       "output_type": "stream",
       "stream": "stdout",
       "text": [
        "[{'x0': 0, 'x1': 16.0, 'w': 31.232}]\n"
       ]
      }
     ],
     "prompt_number": 8
    },
    {
     "cell_type": "heading",
     "level": 4,
     "metadata": {
      "slideshow": {
       "slide_type": "subslide"
      }
     },
     "source": [
      "Demonstrate Picking of Grade"
     ]
    },
    {
     "cell_type": "code",
     "collapsed": false,
     "input": [
      "stud.b = 1.5\n",
      "stud.d = 7.25\n",
      "stud.pick_list"
     ],
     "language": "python",
     "metadata": {
      "slideshow": {
       "slide_type": "-"
      }
     },
     "outputs": [
      {
       "output_type": "stream",
       "stream": "stdout",
       "text": [
        "For 8\u201d wide material\n",
        "['Dense Select Structural', 'Select Structural', 'Non-Dense Select Structural', 'No. 1 Dense', 'No. 1', 'No. 1 Non-Dense', 'No. 2 Dense', 'No. 2', 'No. 2 Non-Dense', 'No. 3 and Stud']\n"
       ]
      }
     ],
     "prompt_number": 9
    },
    {
     "cell_type": "code",
     "collapsed": false,
     "input": [
      "stud.pick='No. 2'"
     ],
     "language": "python",
     "metadata": {
      "slideshow": {
       "slide_type": "fragment"
      }
     },
     "outputs": [
      {
       "output_type": "stream",
       "stream": "stdout",
       "text": [
        "Int64Index([30], dtype=int64)\n",
        "'self.grade'                 = 'Grade'  = No. 2\n",
        "'self._size_classification'  = 'Size'   = 8\u201d wide\n",
        "'self._F_b'                  = 'F_b'    = 1200\n",
        "'self._F_c_p'                = 'F_cp'   = 565\n",
        "'self._F_v'                  = 'F_v'    = 175\n",
        "'self._E'                    = 'E'      = 1600000\n",
        "'self._E_min'                = 'E_min'  = 580000\n",
        "'self._F_t'                  = 'F_t'    = 650\n",
        "'self._F_c'                  = 'F_c'    = 1550\n"
       ]
      }
     ],
     "prompt_number": 10
    },
    {
     "cell_type": "heading",
     "level": 3,
     "metadata": {
      "slideshow": {
       "slide_type": "slide"
      }
     },
     "source": [
      "Find Minimum Grade that Works"
     ]
    },
    {
     "cell_type": "code",
     "collapsed": false,
     "input": [
      "interior = False\n",
      "#interior = True\n",
      "\n",
      "if not interior:\n",
      "    loads=stud_loads['edge']\n",
      "else:\n",
      "    loads=stud_loads['interior']\n",
      "    \n",
      "bracepoints = 2 #for C_L\n",
      "\n",
      "stud.span = Stud_span\n",
      "stud.loads = loads\n",
      "stud.C_r = 1.15\n",
      "\n",
      "stud.C_L_l_e.use_sing=True\n",
      "stud.C_L_l_e.l_u = Stud_span*12/(bracepoints+1) #for C_L\n",
      "\n",
      "long_wall = False\n",
      "#long_wall = True\n",
      "if not long_wall:\n",
      "    stud.P = stud.Axial_Load_combos.D_L_W_Lr.load\n",
      "    stud.C_D = stud.Axial_Load_combos.D_L_W_Lr.C_D\n",
      "    stud.C_P_l_e.le_x=Stud_span*12 - 5.5 #for C_P less joist height\n",
      "else:\n",
      "    stud.P = 0\n",
      "    stud.C_D = 1.6\n",
      "    stud.C_P_l_e.le_x=Stud_span*12 #for C_P\n",
      "\n",
      "stud.b = 1.5\n",
      "\n",
      "stud.u_c_f = 12**3 #(12\"/1')^3 unit conversion for deflection\n",
      "stud.units = (\"ft\",\"in\",\"lb\")\n",
      "\n",
      "print(\"Axial load = {:.2f} lb\".format(stud.P))\n",
      "print(\"Bending moment = {:.2f} ft-lb\\n\".format(stud.M))\n",
      "\n",
      "limit = 1/120/0.42 #per note f on Table 1604.3 FBC due to using C&C wind pressures\n",
      "\n",
      "checks={\"Bending and Tension\":0,\n",
      "        \"Bending and Compression\":1,\n",
      "        \"Gross Tension\":2,\n",
      "        \"Compression\":3,\n",
      "        \"Bending\":4}\n",
      "if not long_wall:\n",
      "    find_beam(stud,check=checks[\"Bending and Compression\"], deflect_limit=limit)\n",
      "else:\n",
      "    find_beam(stud,check=checks[\"Bending\"], deflect_limit=limit)"
     ],
     "language": "python",
     "metadata": {
      "slideshow": {
       "slide_type": "-"
      }
     },
     "outputs": [
      {
       "output_type": "stream",
       "stream": "stdout",
       "text": [
        "Axial load = 328.60 lb\n",
        "Bending moment = 999.42 ft-lb\n",
        "\n",
        "Shear strength is acceptable."
       ]
      },
      {
       "output_type": "stream",
       "stream": "stdout",
       "text": [
        "\n",
        "2x6 of No. 2 southern pine is good\n",
        "F_b' = 1902.06 psi, F_v' = 280.00 psi, F_c' = 399.84 psi, \n",
        "F_t' = 1160.00 psi, E' = 1600000.00 psi, E_min' = 580000.00 psi\n",
        "C_D = 1.60, C_L = 0.827, C_r = 1.15, C_P = 0.156\n",
        "\tPassed deflection limit too, (Delta = 1.384\" < 3.810\" = limit)"
       ]
      },
      {
       "output_type": "stream",
       "stream": "stdout",
       "text": [
        "\n",
        "\n",
        "Shear strength is acceptable."
       ]
      },
      {
       "output_type": "stream",
       "stream": "stdout",
       "text": [
        "\n",
        "2x8 of No. 3 and Stud southern pine is good\n",
        "F_b' = 1123.35 psi, F_v' = 280.00 psi, F_c' = 559.15 psi, \n",
        "F_t' = 640.00 psi, E' = 1400000.00 psi, E_min' = 510000.00 psi\n",
        "C_D = 1.60, C_L = 0.872, C_r = 1.15, C_P = 0.399\n",
        "\tPassed deflection limit too, (Delta = 0.691\" < 3.810\" = limit)"
       ]
      },
      {
       "output_type": "stream",
       "stream": "stdout",
       "text": [
        "\n",
        "\n",
        "Shear strength is acceptable."
       ]
      },
      {
       "output_type": "stream",
       "stream": "stdout",
       "text": [
        "\n",
        "2x10 of No. 3 and Stud southern pine is good\n",
        "F_b' = 912.20 psi, F_v' = 280.00 psi, F_c' = 801.36 psi, \n",
        "F_t' = 520.00 psi, E' = 1400000.00 psi, E_min' = 510000.00 psi\n",
        "C_D = 1.60, C_L = 0.826, C_r = 1.15, C_P = 0.589\n",
        "\tPassed deflection limit too, (Delta = 0.333\" < 3.810\" = limit)"
       ]
      },
      {
       "output_type": "stream",
       "stream": "stdout",
       "text": [
        "\n",
        "\n",
        "Shear strength is acceptable."
       ]
      },
      {
       "output_type": "stream",
       "stream": "stdout",
       "text": [
        "\n",
        "2x12 of No. 3 and Stud southern pine is good\n",
        "F_b' = 802.43 psi, F_v' = 280.00 psi, F_c' = 974.82 psi, \n",
        "F_t' = 520.00 psi, E' = 1400000.00 psi, E_min' = 510000.00 psi\n",
        "C_D = 1.60, C_L = 0.758, C_r = 1.15, C_P = 0.739\n",
        "\tPassed deflection limit too, (Delta = 0.185\" < 3.810\" = limit)"
       ]
      },
      {
       "output_type": "stream",
       "stream": "stdout",
       "text": [
        "\n",
        "\n",
        "\n",
        "Finished checking\n"
       ]
      }
     ],
     "prompt_number": 11
    },
    {
     "cell_type": "markdown",
     "metadata": {
      "slideshow": {
       "slide_type": "slide"
      }
     },
     "source": [
      "####Summary:\n",
      "\n",
      "* A 2x6 \\#2 Pine with 1/3 point bracing works for the short wall at the corners\n",
      "* A 2x6 \\#2 Dense pine with 1/2 point bracing works for the short wall in the interior\n",
      "\n",
      "* A 2x6 \\#2 Dense pine with 1/2 point bracing works for the long wall at the corners\n",
      "* A 2x6 \\#2 Pine with 1/2 point bracing works for the long wall in the interior"
     ]
    },
    {
     "cell_type": "heading",
     "level": 3,
     "metadata": {
      "slideshow": {
       "slide_type": "slide"
      }
     },
     "source": [
      "Varify"
     ]
    },
    {
     "cell_type": "code",
     "collapsed": false,
     "input": [
      "stud.d = 5.5\n",
      "stud.pick_list"
     ],
     "language": "python",
     "metadata": {
      "slideshow": {
       "slide_type": "-"
      }
     },
     "outputs": [
      {
       "output_type": "stream",
       "stream": "stdout",
       "text": [
        "For 5\u201d-6\u201d wide material\n",
        "['Dense Select Structural', 'Select Structural', 'Non-Dense Select Structural', 'No. 1 Dense', 'No. 1', 'No. 1 Non-Dense', 'No. 2 Dense', 'No. 2', 'No. 2 Non-Dense', 'No. 3 and Stud']\n"
       ]
      }
     ],
     "prompt_number": 12
    },
    {
     "cell_type": "code",
     "collapsed": false,
     "input": [
      "stud.pick='No. 2'#'No. 2'#"
     ],
     "language": "python",
     "metadata": {
      "slideshow": {
       "slide_type": "-"
      }
     },
     "outputs": [
      {
       "output_type": "stream",
       "stream": "stdout",
       "text": [
        "Int64Index([20], dtype=int64)\n",
        "'self.grade'                 = 'Grade'  = No. 2\n",
        "'self._size_classification'  = 'Size'   = 5\u201d-6\u201d wide\n",
        "'self._F_b'                  = 'F_b'    = 1250\n",
        "'self._F_c_p'                = 'F_cp'   = 565\n",
        "'self._F_v'                  = 'F_v'    = 175\n",
        "'self._E'                    = 'E'      = 1600000\n",
        "'self._E_min'                = 'E_min'  = 580000\n",
        "'self._F_t'                  = 'F_t'    = 725\n",
        "'self._F_c'                  = 'F_c'    = 1600\n"
       ]
      }
     ],
     "prompt_number": 13
    },
    {
     "cell_type": "heading",
     "level": 4,
     "metadata": {
      "slideshow": {
       "slide_type": "slide"
      }
     },
     "source": [
      "Compression $(C_P)$"
     ]
    },
    {
     "cell_type": "code",
     "collapsed": false,
     "input": [
      "print(\"F_c' = %.1f psi (allowed)\"%stud.F_c_)\n",
      "print(\"f_c = %.1f psi (actual)\"%stud.f_c)\n",
      "stud.C_P_reveal['work']"
     ],
     "language": "python",
     "metadata": {
      "slideshow": {
       "slide_type": "-"
      }
     },
     "outputs": [
      {
       "output_type": "stream",
       "stream": "stdout",
       "text": [
        "F_c' = 399.8 psi (allowed)\n",
        "f_c = 39.8 psi (actual)\n"
       ]
      },
      {
       "latex": [
        "$$\\frac{l_{e,x}}{d} = 33.909\\text{ }\\Leftarrow \\text{ Controls}$$ \n",
        "${}$\n",
        " $$\\frac{l_{e,y}}{b} = 0.000$$ \n",
        "${}$\n",
        " $$SR = 33.909$$ \n",
        "${}$\n",
        " $$F_c^* = F_c C_D C_M C_t C_F C_i = 2560.00 psi$$ \n",
        "${}$\n",
        " $$F_{cE} = \\frac{0.822 E_{min}'}{SR^2} = 414.64 psi$$ \n",
        "${}$\n",
        " $$\\frac{F_{cE}}{F_c^*} = 0.162$$ \n",
        "${}$\n",
        " $$\\frac{1+F_{cE}/F_c^*}{2 c}=0.726$$ \n",
        "${}$\n",
        " $$c = 0.8$$ \n",
        "${}$\n",
        " $$\\frac{F_{cE}/F_c^*}{c}=0.202$$ \n",
        "${}$\n",
        " $$C_P = \\frac{1+F_{cE}/F_c^*}{2 c} -\\sqrt{\\left(\\frac{1+F_{cE}/F_c^*}{2 c}\\right)^2-\\frac{F_{cE}/F_c^*}{c}} =0.1562$$ \n",
        "${}$\n",
        " "
       ],
       "metadata": {},
       "output_type": "pyout",
       "prompt_number": 14,
       "text": [
        "<IPython.core.display.Latex at 0x6e627d0>"
       ]
      }
     ],
     "prompt_number": 14
    },
    {
     "cell_type": "heading",
     "level": 4,
     "metadata": {
      "slideshow": {
       "slide_type": "slide"
      }
     },
     "source": [
      "Bending $(C_L)$"
     ]
    },
    {
     "cell_type": "code",
     "collapsed": false,
     "input": [
      "print(\"F_b' = %.1f psi (allowed)\"%stud.F_b_)\n",
      "print(\"f_b = %.1f psi (actual)\"%stud.f_b)\n",
      "stud.C_L_reveal['work']"
     ],
     "language": "python",
     "metadata": {
      "slideshow": {
       "slide_type": "-"
      }
     },
     "outputs": [
      {
       "output_type": "stream",
       "stream": "stdout",
       "text": [
        "F_b' = 1902.1 psi (allowed)\n",
        "f_b = 1585.9 psi (actual)\n"
       ]
      },
      {
       "latex": [
        "$$\\text{Since }\\frac{l_u}{d} =11.636$$ \n",
        "${}$\n",
        " $$l_e =1.63 l_u + 3 d= 120.82$$ \n",
        "${}$\n",
        " $$R_B = \\sqrt{\\frac{l_e d}{b^2}} = 17.19$$ \n",
        "${}$\n",
        " $$F_{bE} = \\frac{1.20 E_{min}'}{R_B^2} = 2356.62 psi $$ \n",
        "${}$\n",
        " $$F_b = 1250 psi$$ \n",
        "${}$\n",
        " $$F_b^* = F_b C_D C_M C_t C_F C_i C_r = 2300.00 psi $$ \n",
        "${}$\n",
        " $$\\frac{F_{bE}}{F_b^*} = 1.0246$$ \n",
        "${}$\n",
        " $$\\frac{1+F_{bE}/F_b^*}{1.9} = 1.0656$$ \n",
        "${}$\n",
        " $$\\frac{F_{bE}/F_b^*}{0.95} = 1.0785$$ \n",
        "${}$\n",
        " $$C_L = \\frac{1+F_{bE}/F_b^*}{1.9}\\sqrt{\\left(\\frac{1+F_{bE}/F_b^*}{1.9}\\right)^2-\\frac{F_{bE}/F_b^*}{0.95}} = 0.8270$$ \n",
        "${}$\n",
        " "
       ],
       "metadata": {},
       "output_type": "pyout",
       "prompt_number": 15,
       "text": [
        "<IPython.core.display.Latex at 0x6e628d0>"
       ]
      }
     ],
     "prompt_number": 15
    },
    {
     "cell_type": "heading",
     "level": 4,
     "metadata": {
      "slideshow": {
       "slide_type": "slide"
      }
     },
     "source": [
      "Compression and Bending"
     ]
    },
    {
     "cell_type": "code",
     "collapsed": false,
     "input": [
      "com_bend(stud,reveal = True)['work']"
     ],
     "language": "python",
     "metadata": {
      "slideshow": {
       "slide_type": "-"
      }
     },
     "outputs": [
      {
       "latex": [
        "$$l_e \\text{ for } C_P = 186.50\"$$ \n",
        "${}$\n",
        " $$F_{cE} = \\frac{0.822 E_{min}}{(l_e/d)^2} = 414.64 psi$$ \n",
        "${}$\n",
        " $$l_e \\text{ for } C_L = 120.82\"$$ \n",
        "${}$\n",
        " $$R_B = \\sqrt{\\frac{l_e d}{b^2}} = 17.19$$ \n",
        "${}$\n",
        " $$F_{bE} = 1.20 \\frac{E_{min}}{R_B^2} = 2356.62 psi$$ \n",
        "${}$\n",
        " $$\\text{Check }\\left(\\frac{f_c}{F_c'}\\right)^2+\\frac{f_b}{(F_b' (1-f_c/F_{cE}))}\\le 1 \\therefore 0.932\\le 1 \\text{ OK}$$ \n",
        "${}$\n",
        " $$\\text{Check }f_c < F_{cE}\\therefore 39.830 psi<414.636 psi\\text{ OK}$$ \n",
        "${}$\n",
        " $$\\text{Check }f_b < F_{bE}\\therefore 1585.863 psi<2356.624 psi\\text{ OK}$$ \n",
        "${}$\n",
        " "
       ],
       "metadata": {},
       "output_type": "pyout",
       "prompt_number": 16,
       "text": [
        "<IPython.core.display.Latex at 0x6e6ea50>"
       ]
      }
     ],
     "prompt_number": 16
    },
    {
     "cell_type": "heading",
     "level": 4,
     "metadata": {
      "slideshow": {
       "slide_type": "slide"
      }
     },
     "source": [
      "Plot Shear and Moment Diagrams"
     ]
    },
    {
     "cell_type": "code",
     "collapsed": false,
     "input": [
      "stud.plot_shear_moment_results()"
     ],
     "language": "python",
     "metadata": {
      "slideshow": {
       "slide_type": "-"
      }
     },
     "outputs": [
      {
       "metadata": {},
       "output_type": "display_data",
       "png": "[encoded data removed]",
       "text": [
        "<matplotlib.figure.Figure at 0x6e6e8d0>"
       ]
      }
     ],
     "prompt_number": 17
    },
    {
     "cell_type": "heading",
     "level": 2,
     "metadata": {
      "slideshow": {
       "slide_type": "slide"
      }
     },
     "source": [
      "Upward loading"
     ]
    },
    {
     "cell_type": "code",
     "collapsed": false,
     "input": [
      "stud.P = stud.Axial_Load_combos.D_Wu.load\n",
      "stud.C_D = stud.Axial_Load_combos.D_Wu.C_D\n",
      "print((stud.C_D, stud.P))\n",
      "print()\n",
      "find_beam(stud,check=checks[\"Bending and Tension\"],deflect_limit = limit)"
     ],
     "language": "python",
     "metadata": {
      "slideshow": {
       "slide_type": "-"
      }
     },
     "outputs": [
      {
       "output_type": "stream",
       "stream": "stdout",
       "text": [
        "(1.6, 196.44427333333337)\n",
        "\n",
        "Shear strength is acceptable."
       ]
      },
      {
       "output_type": "stream",
       "stream": "stdout",
       "text": [
        "\n",
        "2x4 of Select Structural southern pine is good\n",
        "F_b' = 3881.43 psi, F_v' = 280.00 psi, F_c' = Not usable, \n",
        "F_t' = 2560.00 psi, E' = 1800000.00 psi, E_min' = 660000.00 psi\n",
        "C_D = 1.60, C_L = 0.740, C_r = 1.15, C_P = 0\n",
        "\tFAILED deflection limit, (Delta = 4.774\" > 3.810\" = limit)"
       ]
      },
      {
       "output_type": "stream",
       "stream": "stdout",
       "text": [
        "\n",
        "\n",
        "Shear strength is acceptable."
       ]
      },
      {
       "output_type": "stream",
       "stream": "stdout",
       "text": [
        "\n",
        "2x6 of No. 2 Non-Dense southern pine is good\n",
        "F_b' = 1710.91 psi, F_v' = 280.00 psi, F_c' = 352.46 psi, \n",
        "F_t' = 1080.00 psi, E' = 1400000.00 psi, E_min' = 510000.00 psi\n",
        "C_D = 1.60, C_L = 0.809, C_r = 1.15, C_P = 0.147\n",
        "\tPassed deflection limit too, (Delta = 1.582\" < 3.810\" = limit)"
       ]
      },
      {
       "output_type": "stream",
       "stream": "stdout",
       "text": [
        "\n",
        "\n",
        "Shear strength is acceptable."
       ]
      },
      {
       "output_type": "stream",
       "stream": "stdout",
       "text": [
        "\n",
        "2x8 of No. 3 and Stud southern pine is good\n",
        "F_b' = 1123.35 psi, F_v' = 280.00 psi, F_c' = 559.15 psi, \n",
        "F_t' = 640.00 psi, E' = 1400000.00 psi, E_min' = 510000.00 psi\n",
        "C_D = 1.60, C_L = 0.872, C_r = 1.15, C_P = 0.399\n",
        "\tPassed deflection limit too, (Delta = 0.691\" < 3.810\" = limit)"
       ]
      },
      {
       "output_type": "stream",
       "stream": "stdout",
       "text": [
        "\n",
        "\n",
        "Shear strength is acceptable."
       ]
      },
      {
       "output_type": "stream",
       "stream": "stdout",
       "text": [
        "\n",
        "2x10 of No. 3 and Stud southern pine is good\n",
        "F_b' = 912.20 psi, F_v' = 280.00 psi, F_c' = 801.36 psi, \n",
        "F_t' = 520.00 psi, E' = 1400000.00 psi, E_min' = 510000.00 psi\n",
        "C_D = 1.60, C_L = 0.826, C_r = 1.15, C_P = 0.589\n",
        "\tPassed deflection limit too, (Delta = 0.333\" < 3.810\" = limit)"
       ]
      },
      {
       "output_type": "stream",
       "stream": "stdout",
       "text": [
        "\n",
        "\n",
        "Shear strength is acceptable."
       ]
      },
      {
       "output_type": "stream",
       "stream": "stdout",
       "text": [
        "\n",
        "2x12 of No. 3 and Stud southern pine is good\n",
        "F_b' = 802.43 psi, F_v' = 280.00 psi, F_c' = 974.82 psi, \n",
        "F_t' = 520.00 psi, E' = 1400000.00 psi, E_min' = 510000.00 psi\n",
        "C_D = 1.60, C_L = 0.758, C_r = 1.15, C_P = 0.739\n",
        "\tPassed deflection limit too, (Delta = 0.185\" < 3.810\" = limit)"
       ]
      },
      {
       "output_type": "stream",
       "stream": "stdout",
       "text": [
        "\n",
        "\n",
        "\n",
        "Finished checking\n"
       ]
      }
     ],
     "prompt_number": 18
    },
    {
     "cell_type": "heading",
     "level": 3,
     "metadata": {
      "slideshow": {
       "slide_type": "slide"
      }
     },
     "source": [
      "Varify"
     ]
    },
    {
     "cell_type": "code",
     "collapsed": false,
     "input": [
      "stud.d = 5.5\n",
      "stud.pick_list"
     ],
     "language": "python",
     "metadata": {
      "slideshow": {
       "slide_type": "-"
      }
     },
     "outputs": [
      {
       "output_type": "stream",
       "stream": "stdout",
       "text": [
        "For 5\u201d-6\u201d wide material\n",
        "['Dense Select Structural', 'Select Structural', 'Non-Dense Select Structural', 'No. 1 Dense', 'No. 1', 'No. 1 Non-Dense', 'No. 2 Dense', 'No. 2', 'No. 2 Non-Dense', 'No. 3 and Stud']\n"
       ]
      }
     ],
     "prompt_number": 19
    },
    {
     "cell_type": "code",
     "collapsed": false,
     "input": [
      "stud.pick='No. 2'"
     ],
     "language": "python",
     "metadata": {
      "slideshow": {
       "slide_type": "-"
      }
     },
     "outputs": [
      {
       "output_type": "stream",
       "stream": "stdout",
       "text": [
        "Int64Index([20], dtype=int64)\n",
        "'self.grade'                 = 'Grade'  = No. 2\n",
        "'self._size_classification'  = 'Size'   = 5\u201d-6\u201d wide\n",
        "'self._F_b'                  = 'F_b'    = 1250\n",
        "'self._F_c_p'                = 'F_cp'   = 565\n",
        "'self._F_v'                  = 'F_v'    = 175\n",
        "'self._E'                    = 'E'      = 1600000\n",
        "'self._E_min'                = 'E_min'  = 580000\n",
        "'self._F_t'                  = 'F_t'    = 725\n",
        "'self._F_c'                  = 'F_c'    = 1600\n"
       ]
      }
     ],
     "prompt_number": 20
    },
    {
     "cell_type": "heading",
     "level": 4,
     "metadata": {
      "slideshow": {
       "slide_type": "slide"
      }
     },
     "source": [
      "Tension Only"
     ]
    },
    {
     "cell_type": "code",
     "collapsed": false,
     "input": [
      "print(\"F_t' = %.2f psi (allowed)\"%stud.F_t_)\n",
      "print(\"f_t = %.2f psi (actual)\"%stud.f_t)"
     ],
     "language": "python",
     "metadata": {
      "slideshow": {
       "slide_type": "-"
      }
     },
     "outputs": [
      {
       "output_type": "stream",
       "stream": "stdout",
       "text": [
        "F_t' = 1160.00 psi (allowed)\n",
        "f_t = 23.81 psi (actual)\n"
       ]
      }
     ],
     "prompt_number": 21
    },
    {
     "cell_type": "heading",
     "level": 4,
     "metadata": {
      "slideshow": {
       "slide_type": "slide"
      }
     },
     "source": [
      "Tension and Bending:"
     ]
    },
    {
     "cell_type": "code",
     "collapsed": false,
     "input": [
      "ten_bend(stud,reveal = True)['work']"
     ],
     "language": "python",
     "metadata": {
      "slideshow": {
       "slide_type": "-"
      }
     },
     "outputs": [
      {
       "latex": [
        "$$f_t = 23.81 psi$$ \n",
        "${}$\n",
        " $$F_t' = 1160.00 psi$$ \n",
        "${}$\n",
        " $$f_b = 1585.86 psi$$ \n",
        "${}$\n",
        " $$F_b' = 1902.06 psi\\text{ (also }F_b^{**}\\text{)}$$ \n",
        "${}$\n",
        " $$C_L = 0.827$$ \n",
        "${}$\n",
        " $$F_b^* = 2300.00 psi$$ \n",
        "${}$\n",
        " $$F_b^{**} = 1902.06 psi$$ \n",
        "${}$\n",
        " $$\\frac{f_t}{F_t'} + \\frac{f_b}{F_b^*} = 0.710 \\le 1 \\text{ OK}$$ \n",
        "${}$\n",
        " $$\\frac{f_b - f_t}{F_b^{**}} = 0.821 \\le 1 \\text{ OK}$$ \n",
        "${}$\n",
        " "
       ],
       "metadata": {},
       "output_type": "pyout",
       "prompt_number": 22,
       "text": [
        "<IPython.core.display.Latex at 0x70796d0>"
       ]
      }
     ],
     "prompt_number": 22
    },
    {
     "cell_type": "heading",
     "level": 2,
     "metadata": {
      "slideshow": {
       "slide_type": "slide"
      }
     },
     "source": [
      "Axial Loading Only Check (for comparison)"
     ]
    },
    {
     "cell_type": "code",
     "collapsed": false,
     "input": [
      "stud.P = stud.Axial_Load_combos.D_Lr.load\n",
      "stud.C_D= stud.Axial_Load_combos.D_Lr.C_D\n",
      "stud.C_L_l_e.use = False\n",
      "stud.loads = stud_loads['none']\n",
      "find_beam(stud,check=checks['Compression'])"
     ],
     "language": "python",
     "metadata": {
      "slideshow": {
       "slide_type": "-"
      }
     },
     "outputs": [
      {
       "output_type": "stream",
       "stream": "stdout",
       "text": [
        "2x6 of No. 3 and Stud southern pine is good\n",
        "F_b' = 1078.12 psi, F_v' = 218.75 psi, F_c' = 336.89 psi, \n",
        "F_t' = 531.25 psi, E' = 1400000.00 psi, E_min' = 510000.00 psi\n",
        "C_D = 1.25, C_r = 1.15, C_P = 0.291\n",
        "\n",
        "2x8 of No. 3 and Stud southern pine is good\n",
        "F_b' = 1006.25 psi, F_v' = 218.75 psi, F_c' = 532.48 psi, \n",
        "F_t' = 500.00 psi, E' = 1400000.00 psi, E_min' = 510000.00 psi\n",
        "C_D = 1.25, C_r = 1.15, C_P = 0.487\n",
        "\n",
        "2x10 of No. 3 and Stud southern pine is good\n",
        "F_b' = 862.50 psi, F_v' = 218.75 psi, F_c' = 723.12 psi, \n",
        "F_t' = 406.25 psi, E' = 1400000.00 psi, E_min' = 510000.00 psi\n",
        "C_D = 1.25, C_r = 1.15, C_P = 0.681\n",
        "\n",
        "2x12 of No. 3 and Stud southern pine is good\n",
        "F_b' = 826.56 psi, F_v' = 218.75 psi, F_c' = 831.77 psi, \n",
        "F_t' = 406.25 psi, E' = 1400000.00 psi, E_min' = 510000.00 psi\n",
        "C_D = 1.25, C_r = 1.15, C_P = 0.807\n",
        "\n",
        "\n",
        "Finished checking\n"
       ]
      }
     ],
     "prompt_number": 23
    },
    {
     "cell_type": "heading",
     "level": 2,
     "metadata": {
      "slideshow": {
       "slide_type": "slide"
      }
     },
     "source": [
      "Student Summary Check"
     ]
    },
    {
     "cell_type": "code",
     "collapsed": false,
     "input": [
      "stud_loads['student'] = [{'x0':0,'x1':stud.span,'w':52.05}]\n",
      "print(list(stud_loads.keys()))"
     ],
     "language": "python",
     "metadata": {
      "slideshow": {
       "slide_type": "-"
      }
     },
     "outputs": [
      {
       "output_type": "stream",
       "stream": "stdout",
       "text": [
        "['interior', 'none', 'edge', 'student']\n"
       ]
      }
     ],
     "prompt_number": 31
    },
    {
     "cell_type": "code",
     "collapsed": false,
     "input": [
      "stud.loads = stud_loads['edge']\n",
      "stud.d = 7.25\n",
      "stud.P = stud.Axial_Load_combos.D_L_W_Lr.load\n",
      "stud.C_D = stud.Axial_Load_combos.D_L_W_Lr.C_D\n",
      "print(\"Axail load = %.2f lb\"%stud.P)\n",
      "stud.C_L_l_e.use_sing = True \n",
      "stud.pick_list"
     ],
     "language": "python",
     "metadata": {
      "slideshow": {
       "slide_type": "fragment"
      }
     },
     "outputs": [
      {
       "output_type": "stream",
       "stream": "stdout",
       "text": [
        "Axail load = 328.60 lb\n",
        "For 8\u201d wide material\n",
        "['Dense Select Structural', 'Select Structural', 'Non-Dense Select Structural', 'No. 1 Dense', 'No. 1', 'No. 1 Non-Dense', 'No. 2 Dense', 'No. 2', 'No. 2 Non-Dense', 'No. 3 and Stud']\n"
       ]
      }
     ],
     "prompt_number": 32
    },
    {
     "cell_type": "code",
     "collapsed": false,
     "input": [
      "stud.pick='No. 2'"
     ],
     "language": "python",
     "metadata": {
      "slideshow": {
       "slide_type": "fragment"
      }
     },
     "outputs": [
      {
       "output_type": "stream",
       "stream": "stdout",
       "text": [
        "Int64Index([30], dtype=int64)\n",
        "'self.grade'                 = 'Grade'  = No. 2\n",
        "'self._size_classification'  = 'Size'   = 8\u201d wide\n",
        "'self._F_b'                  = 'F_b'    = 1200\n",
        "'self._F_c_p'                = 'F_cp'   = 565\n",
        "'self._F_v'                  = 'F_v'    = 175\n",
        "'self._E'                    = 'E'      = 1600000\n",
        "'self._E_min'                = 'E_min'  = 580000\n",
        "'self._F_t'                  = 'F_t'    = 650\n",
        "'self._F_c'                  = 'F_c'    = 1550\n"
       ]
      }
     ],
     "prompt_number": 33
    },
    {
     "cell_type": "heading",
     "level": 3,
     "metadata": {
      "slideshow": {
       "slide_type": "subslide"
      }
     },
     "source": [
      "Display Calculations"
     ]
    },
    {
     "cell_type": "code",
     "collapsed": false,
     "input": [
      "print(\"F_c' = %.1f psi (allowed)\"%stud.F_c_)\n",
      "print(\"f_c = %.1f psi (actual)\"%stud.f_c)\n",
      "txt=r\"$$\\textbf{Checking } C_P$$ \"+\" \\n${}$\\n \"\n",
      "txt += stud.C_P_reveal['text']+\" \\n${}$\\n \"\n",
      "txt +=\" \\n${}$\\n \"\n",
      "print(\"F_b' = %.1f psi (allowed)\"%stud.F_b_)\n",
      "print(\"f_b = %.1f psi (actual)\"%stud.f_b)\n",
      "txt+=r\"$$\\textbf{Checking } C_L$$ \"+\" \\n${}$\\n \"\n",
      "txt+=stud.C_L_reveal['text']+\" \\n${}$\\n \"\n",
      "txt +=\" \\n${}$\\n \"\n",
      "txt+=r\"$$\\textbf{Checking combineded bending and compression}$$ \"+\" \\n${}$\\n \"\n",
      "txt+=com_bend(stud,reveal = True)['text']\n",
      "Latex(txt)"
     ],
     "language": "python",
     "metadata": {
      "slideshow": {
       "slide_type": "-"
      }
     },
     "outputs": [
      {
       "output_type": "stream",
       "stream": "stdout",
       "text": [
        "F_c' = 670.7 psi (allowed)\n",
        "f_c = 30.2 psi (actual)\n",
        "F_b' = 1537.2 psi (allowed)\n",
        "f_b = 912.7 psi (actual)\n"
       ]
      },
      {
       "latex": [
        "$$\\textbf{Checking } C_P$$  \n",
        "${}$\n",
        " $$\\frac{l_{e,x}}{d} = 25.724\\text{ }\\Leftarrow \\text{ Controls}$$ \n",
        "${}$\n",
        " $$\\frac{l_{e,y}}{b} = 0.000$$ \n",
        "${}$\n",
        " $$SR = 25.724$$ \n",
        "${}$\n",
        " $$F_c^* = F_c C_D C_M C_t C_F C_i = 2480.00 psi$$ \n",
        "${}$\n",
        " $$F_{cE} = \\frac{0.822 E_{min}'}{SR^2} = 720.47 psi$$ \n",
        "${}$\n",
        " $$\\frac{F_{cE}}{F_c^*} = 0.291$$ \n",
        "${}$\n",
        " $$\\frac{1+F_{cE}/F_c^*}{2 c}=0.807$$ \n",
        "${}$\n",
        " $$c = 0.8$$ \n",
        "${}$\n",
        " $$\\frac{F_{cE}/F_c^*}{c}=0.363$$ \n",
        "${}$\n",
        " $$C_P = \\frac{1+F_{cE}/F_c^*}{2 c} -\\sqrt{\\left(\\frac{1+F_{cE}/F_c^*}{2 c}\\right)^2-\\frac{F_{cE}/F_c^*}{c}} =0.2705$$ \n",
        "${}$\n",
        "  \n",
        "${}$\n",
        "  \n",
        "${}$\n",
        " $$\\textbf{Checking } C_L$$  \n",
        "${}$\n",
        " $$\\text{Since }\\frac{l_u}{d} =8.828$$ \n",
        "${}$\n",
        " $$l_e =1.63 l_u + 3 d= 126.07$$ \n",
        "${}$\n",
        " $$R_B = \\sqrt{\\frac{l_e d}{b^2}} = 20.16$$ \n",
        "${}$\n",
        " $$F_{bE} = \\frac{1.20 E_{min}'}{R_B^2} = 1713.33 psi $$ \n",
        "${}$\n",
        " $$F_b = 1200 psi$$ \n",
        "${}$\n",
        " $$F_b^* = F_b C_D C_M C_t C_F C_i C_r = 2208.00 psi $$ \n",
        "${}$\n",
        " $$\\frac{F_{bE}}{F_b^*} = 0.7760$$ \n",
        "${}$\n",
        " $$\\frac{1+F_{bE}/F_b^*}{1.9} = 0.9347$$ \n",
        "${}$\n",
        " $$\\frac{F_{bE}/F_b^*}{0.95} = 0.8168$$ \n",
        "${}$\n",
        " $$C_L = \\frac{1+F_{bE}/F_b^*}{1.9}\\sqrt{\\left(\\frac{1+F_{bE}/F_b^*}{1.9}\\right)^2-\\frac{F_{bE}/F_b^*}{0.95}} = 0.6962$$ \n",
        "${}$\n",
        "  \n",
        "${}$\n",
        "  \n",
        "${}$\n",
        " $$\\textbf{Checking combineded bending and compression}$$  \n",
        "${}$\n",
        " $$l_e \\text{ for } C_P = 186.50\"$$ \n",
        "${}$\n",
        " $$F_{cE} = \\frac{0.822 E_{min}}{(l_e/d)^2} = 720.47 psi$$ \n",
        "${}$\n",
        " $$l_e \\text{ for } C_L = 126.07\"$$ \n",
        "${}$\n",
        " $$R_B = \\sqrt{\\frac{l_e d}{b^2}} = 20.16$$ \n",
        "${}$\n",
        " $$F_{bE} = 1.20 \\frac{E_{min}}{R_B^2} = 1713.33 psi$$ \n",
        "${}$\n",
        " $$\\text{Check }\\left(\\frac{f_c}{F_c'}\\right)^2+\\frac{f_b}{(F_b' (1-f_c/F_{cE}))}\\le 1 \\therefore 0.622\\le 1 \\text{ OK}$$ \n",
        "${}$\n",
        " $$\\text{Check }f_c < F_{cE}\\therefore 30.216 psi<720.474 psi\\text{ OK}$$ \n",
        "${}$\n",
        " $$\\text{Check }f_b < F_{bE}\\therefore 912.673 psi<1713.334 psi\\text{ OK}$$ \n",
        "${}$\n",
        " "
       ],
       "metadata": {},
       "output_type": "pyout",
       "prompt_number": 34,
       "text": [
        "<IPython.core.display.Latex at 0x6d54f10>"
       ]
      }
     ],
     "prompt_number": 34
    },
    {
     "cell_type": "heading",
     "level": 4,
     "metadata": {
      "slideshow": {
       "slide_type": "subslide"
      }
     },
     "source": [
      "Deflection"
     ]
    },
    {
     "cell_type": "code",
     "collapsed": false,
     "input": [
      "print('Delta = %.3f\"'%stud.deflect())"
     ],
     "language": "python",
     "metadata": {
      "slideshow": {
       "slide_type": "-"
      }
     },
     "outputs": [
      {
       "output_type": "stream",
       "stream": "stdout",
       "text": [
        "Delta = 0.604\"\n"
       ]
      }
     ],
     "prompt_number": 35
    },
    {
     "cell_type": "heading",
     "level": 4,
     "metadata": {
      "slideshow": {
       "slide_type": "subslide"
      }
     },
     "source": [
      "Tension Only"
     ]
    },
    {
     "cell_type": "code",
     "collapsed": false,
     "input": [
      "stud.P = stud.Axial_Load_combos.D_Wu.load\n",
      "stud.C_D = stud.Axial_Load_combos.D_Wu.C_D\n",
      "print(\"Axail load = %.2f lb\"%stud.P)\n",
      "print(\"F_t' = %.2f psi (allowed)\"%stud.F_t_)\n",
      "print(\"f_t' = %.2f psi (actual)\"%stud.f_t)"
     ],
     "language": "python",
     "metadata": {
      "slideshow": {
       "slide_type": "-"
      }
     },
     "outputs": [
      {
       "output_type": "stream",
       "stream": "stdout",
       "text": [
        "Axail load = 196.44 lb\n",
        "F_t' = 1040.00 psi (allowed)\n",
        "f_t' = 18.06 psi (actual)\n"
       ]
      }
     ],
     "prompt_number": 36
    },
    {
     "cell_type": "heading",
     "level": 4,
     "metadata": {
      "slideshow": {
       "slide_type": "subslide"
      }
     },
     "source": [
      "Tension and Bending"
     ]
    },
    {
     "cell_type": "code",
     "collapsed": false,
     "input": [
      "ten_bend(stud,reveal=True)['work']"
     ],
     "language": "python",
     "metadata": {
      "slideshow": {
       "slide_type": "-"
      }
     },
     "outputs": [
      {
       "latex": [
        "$$f_t = 18.06 psi$$ \n",
        "${}$\n",
        " $$F_t' = 1040.00 psi$$ \n",
        "${}$\n",
        " $$f_b = 912.67 psi$$ \n",
        "${}$\n",
        " $$F_b' = 1537.20 psi\\text{ (also }F_b^{**}\\text{)}$$ \n",
        "${}$\n",
        " $$C_L = 0.696$$ \n",
        "${}$\n",
        " $$F_b^* = 2208.00 psi$$ \n",
        "${}$\n",
        " $$F_b^{**} = 1537.20 psi$$ \n",
        "${}$\n",
        " $$\\frac{f_t}{F_t'} + \\frac{f_b}{F_b^*} = 0.431 \\le 1 \\text{ OK}$$ \n",
        "${}$\n",
        " $$\\frac{f_b - f_t}{F_b^{**}} = 0.582 \\le 1 \\text{ OK}$$ \n",
        "${}$\n",
        " "
       ],
       "metadata": {},
       "output_type": "pyout",
       "prompt_number": 37,
       "text": [
        "<IPython.core.display.Latex at 0x6e4d9d0>"
       ]
      }
     ],
     "prompt_number": 37
    },
    {
     "cell_type": "code",
     "collapsed": false,
     "input": [],
     "language": "python",
     "metadata": {
      "slideshow": {
       "slide_type": "skip"
      }
     },
     "outputs": [],
     "prompt_number": 37
    }
   ],
   "metadata": {}
  }
 ]
}